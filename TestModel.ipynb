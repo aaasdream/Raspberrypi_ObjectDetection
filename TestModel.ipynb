{
 "cells": [
  {
   "cell_type": "code",
   "execution_count": 1,
   "metadata": {},
   "outputs": [
    {
     "name": "stdout",
     "output_type": "stream",
     "text": [
      "INFO:tensorflow:Saver not created because there are no variables in the graph to restore\n"
     ]
    }
   ],
   "source": [
    "import tensorflow as tf\n",
    "import cv2\n",
    "import time\n",
    "from myprotos import string_int_label_map_pb2\n",
    "from google.protobuf import text_format\n",
    "\n",
    "#讀取 Label Map\n",
    "def LoadLabelmap(LabelMapPath , UseDisplayName = True):\n",
    "    with open(LabelMapPath) as f:\n",
    "        Labelmap_String = f.read()\n",
    "    LabelMap = string_int_label_map_pb2.StringIntLabelMap()\n",
    "    text_format.Merge(Labelmap_String, LabelMap)\n",
    "    LabelmapDict = {}\n",
    "    for item in LabelMap.item:\n",
    "        if (UseDisplayName == True):\n",
    "            LabelmapDict[item.id] = item.display_name \n",
    "        else:\n",
    "            LabelmapDict[item.id] = item.name \n",
    "    return LabelmapDict\n",
    "\n",
    "MyCam = cv2.VideoCapture('ValidateVideo.mp4') #使用影片物件檢測，改成Mcv2.VideoCapture(0)可以使用攝影機\n",
    "LabelmapDict = LoadLabelmap(r'Model/ForClass_SSDMobilenetV2_OID/labelmap.pbtxt',False)\n",
    "#讀取模型\n",
    "model = tf.saved_model.load(r'Model/ForClass_SSDMobilenetV2_OID')\n",
    "model = model.signatures['serving_default']\n",
    "#讀取圖型\n",
    "while(MyCam.isOpened()):\n",
    "    StartTime = time.time()\n",
    "    ret, cvimg = MyCam.read()\n",
    "    if (ret == False): #影片讀取結束或是讀取錯誤，所以讀取失敗\n",
    "        break\n",
    "    cvimgRGB = cv2.cvtColor(cvimg, cv2.COLOR_BGR2RGB)\n",
    "    #使用模型推理\n",
    "    input_tensor = tf.convert_to_tensor(cvimgRGB)\n",
    "    input_tensor = input_tensor[tf.newaxis,...]\n",
    "    out = model(input_tensor)\n",
    "    #繪出結果\n",
    "    # 檢測數量         = out['num_detections'][第幾張圖片]\n",
    "    # 檢測物件的類別    = out['detection_classes'][第幾張圖片][第幾個框檢測結果] \n",
    "    # 檢測物件信心指數  = out['detection_scores'][第幾張圖片][第幾個框檢測結果] \n",
    "    # 檢測物件的框座標  = out['detection_boxes'][第幾張圖片][第幾個檢測結果][4個座標]   4個座標分別為:0起始座標y , 1起始座標x , 2終點座標y , 3終點座標x\n",
    "    for i in range(int(out['num_detections'][0])):\n",
    "        ClassID = int(out['detection_classes'][0][i])\n",
    "        Score = float(out['detection_scores'][0][i])\n",
    "        if (Score > 0.5):\n",
    "            y1 = out['detection_boxes'][0][i][0] * cvimgRGB.shape[0]\n",
    "            x1 = out['detection_boxes'][0][i][1] * cvimgRGB.shape[1]\n",
    "            y2 = out['detection_boxes'][0][i][2] * cvimgRGB.shape[0]\n",
    "            x2 = out['detection_boxes'][0][i][3] * cvimgRGB.shape[1]\n",
    "            cv2.rectangle(cvimg,(x1,y1),(x2,y2),(0,255,0),thickness=3)\n",
    "            info = 'Class:{} Score:{}'.format(LabelmapDict[ClassID], round(Score,2))   \n",
    "            #cv2.putText(目標圖片,   文字,   (x,y),字型             ,字體大小縮放,顏色(B,G,R),字體粗細))\n",
    "            cv2.putText(cvimg, info,(x1+5,y1+30), cv2.FONT_HERSHEY_COMPLEX,1, (255, 255, 0), 2)\n",
    "    EndTime = time.time()\n",
    "    Dtime = EndTime - StartTime\n",
    "    cv2.putText(cvimg, str(int(Dtime*1000)) + 'ms', (0 + 5, 0 + 30), cv2.FONT_HERSHEY_COMPLEX,1, (0, 255, 255), 1)\n",
    "    cv2.imshow('Hello',cvimg) \n",
    "    if cv2.waitKey(1) == ord('q'):\n",
    "                break\n",
    "MyCam.release()\n",
    "cv2.destroyAllWindows()"
   ]
  },
  {
   "cell_type": "code",
   "execution_count": null,
   "metadata": {},
   "outputs": [],
   "source": []
  }
 ],
 "metadata": {
  "kernelspec": {
   "display_name": "Python 3",
   "language": "python",
   "name": "python3"
  },
  "language_info": {
   "codemirror_mode": {
    "name": "ipython",
    "version": 3
   },
   "file_extension": ".py",
   "mimetype": "text/x-python",
   "name": "python",
   "nbconvert_exporter": "python",
   "pygments_lexer": "ipython3",
   "version": "3.7.5"
  }
 },
 "nbformat": 4,
 "nbformat_minor": 2
}
