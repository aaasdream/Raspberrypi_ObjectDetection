{
 "cells": [
  {
   "cell_type": "code",
   "execution_count": 23,
   "metadata": {},
   "outputs": [],
   "source": [
    "#測試攝影機\n",
    "import cv2\n",
    "MyCam = cv2.VideoCapture(0) #取得第一個視訊裝置\n",
    "while(MyCam.isOpened()):\n",
    "    ret, cvimg = MyCam.read()\n",
    "    cv2.imshow('Hello',cvimg) \n",
    "    if cv2.waitKey(1) == ord('q'):\n",
    "                break\n",
    "MyCam.release()\n",
    "cv2.destroyAllWindows()"
   ]
  }
 ],
 "metadata": {
  "kernelspec": {
   "display_name": "Python 3",
   "language": "python",
   "name": "python3"
  },
  "language_info": {
   "codemirror_mode": {
    "name": "ipython",
    "version": 3
   },
   "file_extension": ".py",
   "mimetype": "text/x-python",
   "name": "python",
   "nbconvert_exporter": "python",
   "pygments_lexer": "ipython3",
   "version": "3.7.5"
  }
 },
 "nbformat": 4,
 "nbformat_minor": 2
}
